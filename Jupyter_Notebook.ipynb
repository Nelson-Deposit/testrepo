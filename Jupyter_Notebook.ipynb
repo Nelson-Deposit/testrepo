{
 "cells": [
  {
   "cell_type": "markdown",
   "metadata": {},
   "source": [
    "<center>\n",
    "    <img src=\"https://s3-api.us-geo.objectstorage.softlayer.net/cf-courses-data/CognitiveClass/Logos/organization_logo/organization_logo.png\" width=\"300\" alt=\"cognitiveclass.ai logo\"  />\n",
    "</center>\n"
   ]
  },
  {
   "cell_type": "markdown",
   "metadata": {},
   "source": [
    "#### Add your code below following the instructions given in the course\n"
   ]
  },
  {
   "cell_type": "markdown",
   "metadata": {},
   "source": [
    "# My Jupyter Notebook on IBM Watson Studio"
   ]
  },
  {
   "cell_type": "markdown",
   "metadata": {},
   "source": [
    "**Joubert**\n",
    "postdoc position in fluid dynamics"
   ]
  },
  {
   "cell_type": "markdown",
   "metadata": {},
   "source": [
    "*I am interested in data science because it can be used to gain information in a lot of scientific domain and is a good mix betwen mathematics, statistics and programming.* "
   ]
  },
  {
   "cell_type": "markdown",
   "metadata": {},
   "source": [
    "### This is a code showing difference between integer and floating point number division"
   ]
  },
  {
   "cell_type": "code",
   "execution_count": 16,
   "metadata": {},
   "outputs": [
    {
     "name": "stdout",
     "output_type": "stream",
     "text": [
      "This is the result of a division operator with float number 3.3333333333333335 \n",
      "This is the rest of this division when considering integer 1\n"
     ]
    }
   ],
   "source": [
    "a=10\n",
    "b=3\n",
    "print(\"This is the result of a division operator with float number\",\n",
    "      a/b, \"\\nThis is the rest of this division when considering integer\", a%b)"
   ]
  },
  {
   "cell_type": "markdown",
   "metadata": {},
   "source": [
    "1. Cat\n",
    "2. Dog\n",
    "3. Bird\n",
    "\n",
    "* Bird\n",
    "* Dog\n",
    "* Cat\n",
    "\n",
    "| Animal type | Average lifespan |\n",
    "|:-----------:|:-----------:|\n",
    "| Cat         | 15          |\n",
    "| Dog         | 10          |\n",
    "| Bird        | 3           |"
   ]
  }
 ],
 "metadata": {
  "kernelspec": {
   "display_name": "Python",
   "language": "python",
   "name": "conda-env-python-py"
  },
  "language_info": {
   "codemirror_mode": {
    "name": "ipython",
    "version": 3
   },
   "file_extension": ".py",
   "mimetype": "text/x-python",
   "name": "python",
   "nbconvert_exporter": "python",
   "pygments_lexer": "ipython3",
   "version": "3.7.12"
  }
 },
 "nbformat": 4,
 "nbformat_minor": 4
}
